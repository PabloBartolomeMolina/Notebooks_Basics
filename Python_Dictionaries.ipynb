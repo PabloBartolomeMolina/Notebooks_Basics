{
 "cells": [
  {
   "cell_type": "markdown",
   "id": "0ede5802",
   "metadata": {},
   "source": [
    "# Python Dictionary : Basic information and access"
   ]
  },
  {
   "cell_type": "code",
   "execution_count": null,
   "id": "70560d53",
   "metadata": {},
   "outputs": [],
   "source": []
  },
  {
   "cell_type": "markdown",
   "id": "d1413bd3",
   "metadata": {},
   "source": [
    "# Python Dictionary : Important methods"
   ]
  },
  {
   "cell_type": "code",
   "execution_count": null,
   "id": "dc860073",
   "metadata": {},
   "outputs": [],
   "source": []
  },
  {
   "cell_type": "markdown",
   "id": "9533536a",
   "metadata": {},
   "source": [
    "# Python Dictionary : Iterating over Dictionary"
   ]
  },
  {
   "cell_type": "code",
   "execution_count": null,
   "id": "e89ba210",
   "metadata": {},
   "outputs": [],
   "source": []
  }
 ],
 "metadata": {
  "kernelspec": {
   "display_name": "Python [conda env:base] *",
   "language": "python",
   "name": "conda-base-py"
  },
  "language_info": {
   "codemirror_mode": {
    "name": "ipython",
    "version": 3
   },
   "file_extension": ".py",
   "mimetype": "text/x-python",
   "name": "python",
   "nbconvert_exporter": "python",
   "pygments_lexer": "ipython3",
   "version": "3.12.4"
  }
 },
 "nbformat": 4,
 "nbformat_minor": 5
}
