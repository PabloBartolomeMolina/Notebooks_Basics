{
 "cells": [
  {
   "cell_type": "markdown",
   "id": "ece6f267",
   "metadata": {},
   "source": [
    "# Strings in Python - Jupyter Notebook\n",
    "\n",
    "## Section 1: Definition of Strings\n",
    "\n",
    "### What is a string?\n",
    "In Python, a string is a sequence of characters enclosed in single quotes (' ') or double quotes (\" \").\n",
    "Strings are immutable, meaning once they are created, their values cannot be changed."
   ]
  },
  {
   "cell_type": "code",
   "execution_count": 5,
   "id": "5f1255e9",
   "metadata": {},
   "outputs": [
    {
     "name": "stdout",
     "output_type": "stream",
     "text": [
      "Hello, World!\n",
      "Hello, World!\n"
     ]
    }
   ],
   "source": [
    "# Examples:\n",
    "string_single = 'Hello, World!'  # Single quotes\n",
    "string_double = \"Hello, World!\"  # Double quotes\n",
    "\n",
    "print(string_single)\n",
    "print(string_double)"
   ]
  },
  {
   "cell_type": "markdown",
   "id": "3f5d2389",
   "metadata": {},
   "source": [
    "## Section 2: Main Properties of Strings\n",
    "\n",
    "1. **Immutability**: Strings cannot be changed after creation. You can't modify the string itself, but you can reassign the variable."
   ]
  },
  {
   "cell_type": "code",
   "execution_count": 7,
   "id": "f14c74c9",
   "metadata": {},
   "outputs": [],
   "source": [
    "string_1 = \"Hello\""
   ]
  },
  {
   "cell_type": "markdown",
   "id": "4808fde4",
   "metadata": {},
   "source": [
    "Trying to modify string_1[0] = \"h\" would raise an error\n",
    "Reassigning is the only way to 'modify' the string:"
   ]
  },
  {
   "cell_type": "code",
   "execution_count": null,
   "id": "6d1ffd08",
   "metadata": {},
   "outputs": [],
   "source": [
    "string_1 = \"hello\"\n",
    "print(string_1)"
   ]
  },
  {
   "cell_type": "markdown",
   "id": "9fe3898c",
   "metadata": {},
   "source": [
    "2. **Indexing**: Each character in a string has a position (index). Indexing starts at 0 from the left and -1 from the right.\n",
    "Example: string_2[0] gives the first character, string_2[-1] gives the last character"
   ]
  },
  {
   "cell_type": "code",
   "execution_count": 8,
   "id": "6def82cc",
   "metadata": {},
   "outputs": [
    {
     "name": "stdout",
     "output_type": "stream",
     "text": [
      "P\n",
      "n\n"
     ]
    }
   ],
   "source": [
    "string_2 = \"Python\"\n",
    "print(string_2[0])  # P\n",
    "print(string_2[-1])  # n"
   ]
  },
  {
   "cell_type": "markdown",
   "id": "26af21ac",
   "metadata": {},
   "source": [
    "3. **Slicing**: Subsets of strings can be obtained using slicing. Slicing is done using `start:stop:step`.\n",
    "Example: string_2[0:4] returns the substring 'Pyth'"
   ]
  },
  {
   "cell_type": "code",
   "execution_count": 9,
   "id": "b31f7bec",
   "metadata": {},
   "outputs": [
    {
     "name": "stdout",
     "output_type": "stream",
     "text": [
      "Pyth\n",
      "yth\n",
      "Pyth\n"
     ]
    }
   ],
   "source": [
    "print(string_2[0:4])  # Pyth\n",
    "print(string_2[1:4])  # yth\n",
    "print(string_2[:4])   # Pyth, start from index 0 by default"
   ]
  },
  {
   "cell_type": "markdown",
   "id": "16cb8b7b",
   "metadata": {},
   "source": [
    "4. **Concatenation**: Strings can be concatenated using the `+` operator."
   ]
  },
  {
   "cell_type": "code",
   "execution_count": 11,
   "id": "733d4dfa",
   "metadata": {},
   "outputs": [
    {
     "name": "stdout",
     "output_type": "stream",
     "text": [
      "Hello, Alice\n"
     ]
    }
   ],
   "source": [
    "greeting = \"Hello, \"\n",
    "name = \"Alice\"\n",
    "full_greeting = greeting + name\n",
    "print(full_greeting)"
   ]
  },
  {
   "cell_type": "markdown",
   "id": "780939ca",
   "metadata": {},
   "source": [
    "5. **Repetition**: Strings can be repeated using the `*` operator."
   ]
  },
  {
   "cell_type": "code",
   "execution_count": 12,
   "id": "0956bd18",
   "metadata": {},
   "outputs": [
    {
     "name": "stdout",
     "output_type": "stream",
     "text": [
      "HaHaHa\n"
     ]
    }
   ],
   "source": [
    "repeated_string = \"Ha\" * 3\n",
    "print(repeated_string)  # HaHaHa"
   ]
  },
  {
   "cell_type": "markdown",
   "id": "41121b2c",
   "metadata": {},
   "source": [
    "6. **String Length**: You can get the length of a string using the `len()` function."
   ]
  },
  {
   "cell_type": "code",
   "execution_count": 14,
   "id": "a191e2f6",
   "metadata": {},
   "outputs": [
    {
     "name": "stdout",
     "output_type": "stream",
     "text": [
      "6\n"
     ]
    }
   ],
   "source": [
    "string_len = len(\"Python\")\n",
    "print(string_len)  # 6"
   ]
  },
  {
   "cell_type": "markdown",
   "id": "1b32941a",
   "metadata": {},
   "source": [
    "## Section 3: Important Methods of Strings\n",
    "1. **upper()**: Converts all characters of a string to uppercase."
   ]
  },
  {
   "cell_type": "code",
   "execution_count": 15,
   "id": "f428d005",
   "metadata": {},
   "outputs": [
    {
     "name": "stdout",
     "output_type": "stream",
     "text": [
      "HELLO WORLD\n"
     ]
    }
   ],
   "source": [
    "text = \"hello world\"\n",
    "print(text.upper())  # HELLO WORLD"
   ]
  },
  {
   "cell_type": "markdown",
   "id": "d653b581",
   "metadata": {},
   "source": [
    "2. **lower()**: Converts all characters of a string to lowercase."
   ]
  },
  {
   "cell_type": "code",
   "execution_count": 16,
   "id": "8dcdc6b5",
   "metadata": {},
   "outputs": [
    {
     "name": "stdout",
     "output_type": "stream",
     "text": [
      "hello world\n"
     ]
    }
   ],
   "source": [
    "print(text.lower())  # hello world"
   ]
  },
  {
   "cell_type": "markdown",
   "id": "3ebeb9bc",
   "metadata": {},
   "source": [
    "3. **capitalize()**: Converts the first character to uppercase and the rest to lowercase."
   ]
  },
  {
   "cell_type": "code",
   "execution_count": 17,
   "id": "8e67054e",
   "metadata": {},
   "outputs": [
    {
     "name": "stdout",
     "output_type": "stream",
     "text": [
      "Hello world\n"
     ]
    }
   ],
   "source": [
    "print(text.capitalize())  # Hello world"
   ]
  },
  {
   "cell_type": "markdown",
   "id": "82109fdb",
   "metadata": {},
   "source": [
    "4. **title()**: Converts the first character of each word to uppercase."
   ]
  },
  {
   "cell_type": "code",
   "execution_count": 18,
   "id": "71038a7a",
   "metadata": {},
   "outputs": [
    {
     "name": "stdout",
     "output_type": "stream",
     "text": [
      "Hello World\n"
     ]
    }
   ],
   "source": [
    "print(text.title())  # Hello World"
   ]
  },
  {
   "cell_type": "markdown",
   "id": "fccd36d2",
   "metadata": {},
   "source": [
    "5. **strip()**: Removes leading and trailing whitespace characters."
   ]
  },
  {
   "cell_type": "code",
   "execution_count": 19,
   "id": "9331815e",
   "metadata": {},
   "outputs": [
    {
     "name": "stdout",
     "output_type": "stream",
     "text": [
      "Hello, World!\n"
     ]
    }
   ],
   "source": [
    "text_with_spaces = \"   Hello, World!   \"\n",
    "print(text_with_spaces.strip())  # \"Hello, World!\""
   ]
  },
  {
   "cell_type": "markdown",
   "id": "8da27b75",
   "metadata": {},
   "source": [
    "6. **replace()**: Replaces a substring with another substring."
   ]
  },
  {
   "cell_type": "code",
   "execution_count": 21,
   "id": "b6bc1bda",
   "metadata": {},
   "outputs": [
    {
     "name": "stdout",
     "output_type": "stream",
     "text": [
      "hello there\n"
     ]
    }
   ],
   "source": [
    "print(text.replace(\"world\", \"there\"))  # hello there"
   ]
  },
  {
   "cell_type": "markdown",
   "id": "59c2cef4",
   "metadata": {},
   "source": [
    "7. **split()**: Splits the string into a list of substrings based on a separator.\n"
   ]
  },
  {
   "cell_type": "code",
   "execution_count": 22,
   "id": "cdf8238c",
   "metadata": {},
   "outputs": [
    {
     "name": "stdout",
     "output_type": "stream",
     "text": [
      "['Python', 'is', 'great']\n",
      "['Python', 'is great']\n"
     ]
    }
   ],
   "source": [
    "sentence = \"Python is great\"\n",
    "print(sentence.split())  # ['Python', 'is', 'great']\n",
    "print(sentence.split(' ', 1))  # Split only at the first space: ['Python', 'is great']"
   ]
  },
  {
   "cell_type": "markdown",
   "id": "37bed5f8",
   "metadata": {},
   "source": [
    "8. **join()**: Joins a list of strings into a single string with a specified separator."
   ]
  },
  {
   "cell_type": "code",
   "execution_count": 23,
   "id": "970c0a27",
   "metadata": {},
   "outputs": [
    {
     "name": "stdout",
     "output_type": "stream",
     "text": [
      "Python is great\n"
     ]
    }
   ],
   "source": [
    "words = ['Python', 'is', 'great']\n",
    "print(\" \".join(words))  # Python is great"
   ]
  },
  {
   "cell_type": "markdown",
   "id": "42c36990",
   "metadata": {},
   "source": [
    "9. **startswith()**: Checks if the string starts with the specified substring."
   ]
  },
  {
   "cell_type": "code",
   "execution_count": 24,
   "id": "4fcdfb34",
   "metadata": {},
   "outputs": [
    {
     "name": "stdout",
     "output_type": "stream",
     "text": [
      "True\n"
     ]
    }
   ],
   "source": [
    "print(sentence.startswith(\"Python\"))  # True"
   ]
  },
  {
   "cell_type": "markdown",
   "id": "14a57d6f",
   "metadata": {},
   "source": [
    "10. **endswith()**: Checks if the string ends with the specified substring."
   ]
  },
  {
   "cell_type": "code",
   "execution_count": 25,
   "id": "daa51c82",
   "metadata": {},
   "outputs": [
    {
     "name": "stdout",
     "output_type": "stream",
     "text": [
      "True\n"
     ]
    }
   ],
   "source": [
    "print(sentence.endswith(\"great\"))  # True"
   ]
  },
  {
   "cell_type": "markdown",
   "id": "2abf17f9",
   "metadata": {},
   "source": [
    "11. **find()**: Returns the index of the first occurrence of a substring, or -1 if not found."
   ]
  },
  {
   "cell_type": "code",
   "execution_count": 26,
   "id": "af153212",
   "metadata": {},
   "outputs": [
    {
     "name": "stdout",
     "output_type": "stream",
     "text": [
      "7\n",
      "-1\n"
     ]
    }
   ],
   "source": [
    "print(sentence.find(\"is\"))  # 7\n",
    "print(sentence.find(\"Java\"))  # -1"
   ]
  },
  {
   "cell_type": "markdown",
   "id": "343349c8",
   "metadata": {},
   "source": [
    "12. **count()**: Returns the number of occurrences of a substring."
   ]
  },
  {
   "cell_type": "code",
   "execution_count": 27,
   "id": "fdf56fa5",
   "metadata": {},
   "outputs": [
    {
     "name": "stdout",
     "output_type": "stream",
     "text": [
      "1\n"
     ]
    }
   ],
   "source": [
    "print(sentence.count(\"is\"))  # 1"
   ]
  },
  {
   "cell_type": "markdown",
   "id": "0afa8aa2",
   "metadata": {},
   "source": [
    "13. **isdigit()**: Returns `True` if all characters in the string are digits, `False` otherwise."
   ]
  },
  {
   "cell_type": "code",
   "execution_count": 28,
   "id": "678c749d",
   "metadata": {},
   "outputs": [
    {
     "name": "stdout",
     "output_type": "stream",
     "text": [
      "True\n",
      "False\n"
     ]
    }
   ],
   "source": [
    "num_str = \"12345\"\n",
    "print(num_str.isdigit())  # True\n",
    "print(text.isdigit())  # False"
   ]
  },
  {
   "cell_type": "markdown",
   "id": "23313188",
   "metadata": {},
   "source": [
    "14. **isalpha()**: Returns `True` if all characters in the string are alphabetic, `False` otherwise."
   ]
  },
  {
   "cell_type": "code",
   "execution_count": 29,
   "id": "5b5bdccd",
   "metadata": {},
   "outputs": [
    {
     "name": "stdout",
     "output_type": "stream",
     "text": [
      "True\n",
      "False\n"
     ]
    }
   ],
   "source": [
    "alpha_str = \"Python\"\n",
    "print(alpha_str.isalpha())  # True\n",
    "print(num_str.isalpha())  # False"
   ]
  },
  {
   "cell_type": "markdown",
   "id": "98c95182",
   "metadata": {},
   "source": [
    "15. **isalnum()**: Returns `True` if all characters in the string are alphanumeric (letters and numbers)."
   ]
  },
  {
   "cell_type": "code",
   "execution_count": 30,
   "id": "a1bfceeb",
   "metadata": {},
   "outputs": [
    {
     "name": "stdout",
     "output_type": "stream",
     "text": [
      "True\n"
     ]
    }
   ],
   "source": [
    "alnum_str = \"Python3\"\n",
    "print(alnum_str.isalnum())  # True"
   ]
  },
  {
   "cell_type": "markdown",
   "id": "ca6e20d9",
   "metadata": {},
   "source": [
    "## Section 4: Formatting Strings"
   ]
  },
  {
   "cell_type": "markdown",
   "id": "1613d24a",
   "metadata": {},
   "source": [
    "1. **f-strings (Python 3.6+)**: Allows embedding expressions inside string literals using curly braces `{}`."
   ]
  },
  {
   "cell_type": "code",
   "execution_count": 33,
   "id": "a8a79ae4",
   "metadata": {},
   "outputs": [
    {
     "name": "stdout",
     "output_type": "stream",
     "text": [
      "Hello, John. You are 30 years old.\n"
     ]
    }
   ],
   "source": [
    "name = \"John\"\n",
    "age = 30\n",
    "greeting = f\"Hello, {name}. You are {age} years old.\"\n",
    "print(greeting)"
   ]
  },
  {
   "cell_type": "markdown",
   "id": "e906ab08",
   "metadata": {},
   "source": [
    "2. **format()**: Another way to format strings."
   ]
  },
  {
   "cell_type": "code",
   "execution_count": 34,
   "id": "0c681377",
   "metadata": {},
   "outputs": [
    {
     "name": "stdout",
     "output_type": "stream",
     "text": [
      "Hello, John. You are 30 years old.\n"
     ]
    }
   ],
   "source": [
    "greeting = \"Hello, {}. You are {} years old.\".format(name, age)\n",
    "print(greeting)"
   ]
  },
  {
   "cell_type": "markdown",
   "id": "6e187c6a",
   "metadata": {},
   "source": [
    "3. **% formatting**: Uses `%` operator for formatting."
   ]
  },
  {
   "cell_type": "code",
   "execution_count": 35,
   "id": "dab4576f",
   "metadata": {},
   "outputs": [
    {
     "name": "stdout",
     "output_type": "stream",
     "text": [
      "Hello, John. You are 30 years old.\n"
     ]
    }
   ],
   "source": [
    "greeting = \"Hello, %s. You are %d years old.\" % (name, age)\n",
    "print(greeting)"
   ]
  },
  {
   "cell_type": "markdown",
   "id": "0828aa99",
   "metadata": {},
   "source": [
    "## Section 5: String Encoding and Decoding\n",
    "1. **encode()**: Encodes a string to bytes using a specified encoding."
   ]
  },
  {
   "cell_type": "code",
   "execution_count": 36,
   "id": "37570993",
   "metadata": {},
   "outputs": [
    {
     "name": "stdout",
     "output_type": "stream",
     "text": [
      "b'Hello, World!'\n"
     ]
    }
   ],
   "source": [
    "unicode_string = \"Hello, World!\"\n",
    "byte_string = unicode_string.encode(\"utf-8\")\n",
    "print(byte_string)  # b'Hello, World!'"
   ]
  },
  {
   "cell_type": "markdown",
   "id": "505fa5d0",
   "metadata": {},
   "source": [
    "2. **decode()**: Decodes a byte object back into a string."
   ]
  },
  {
   "cell_type": "code",
   "execution_count": 37,
   "id": "4ff96676",
   "metadata": {},
   "outputs": [
    {
     "name": "stdout",
     "output_type": "stream",
     "text": [
      "Hello, World!\n"
     ]
    }
   ],
   "source": [
    "decoded_string = byte_string.decode(\"utf-8\")\n",
    "print(decoded_string)  # Hello, World!"
   ]
  },
  {
   "cell_type": "markdown",
   "id": "68e2a0fe",
   "metadata": {},
   "source": [
    "## Conclusion:\n",
    "Strings in Python are fundamental data types that come with a variety of useful methods and properties for manipulation and analysis.\n"
   ]
  }
 ],
 "metadata": {
  "kernelspec": {
   "display_name": "Python [conda env:base] *",
   "language": "python",
   "name": "conda-base-py"
  },
  "language_info": {
   "codemirror_mode": {
    "name": "ipython",
    "version": 3
   },
   "file_extension": ".py",
   "mimetype": "text/x-python",
   "name": "python",
   "nbconvert_exporter": "python",
   "pygments_lexer": "ipython3",
   "version": "3.12.4"
  }
 },
 "nbformat": 4,
 "nbformat_minor": 5
}
