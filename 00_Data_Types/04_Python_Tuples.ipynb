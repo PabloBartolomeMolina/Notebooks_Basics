{
  "cells": [
    {
      "cell_type": "markdown",
      "metadata": {},
      "source": [
        "# Python Tuples\n",
        "\n",
        "## Introduction\n",
        "A **tuple** is an immutable, ordered collection of items in Python. It is similar to a list, but unlike lists, tuples cannot be modified after creation (i.e., they are immutable). This immutability makes tuples useful when you want to ensure that the data remains unchanged.\n",
        "\n",
        "Tuples are defined by placing the items (elements) inside parentheses `()` separated by commas.\n",
        "\n",
        "### Key Points about Tuples:\n",
        "- **Ordered**: The items in a tuple have a defined order, and that order will not change.\n",
        "- **Immutable**: Once a tuple is created, the items inside it cannot be changed, added, or removed.\n",
        "- **Allows Duplicates**: Since tuples are ordered, they can contain duplicate values.\n",
        "- **Heterogeneous**: A tuple can contain different data types (e.g., integers, strings, floats, etc.).\n"
      ]
    },
    {
      "cell_type": "code",
      "metadata": {},
      "source": [
        "# Example of creating a tuple\n",
        "my_tuple = (1, 'apple', 3.5, 'apple', (10, 20))\n",
        "print(my_tuple)\n"
      ],
      "execution_count": null,
      "outputs": []
    },
    {
      "cell_type": "markdown",
      "metadata": {},
      "source": [
        "## Tuple Properties\n",
        "### 1. Immutability\n",
        "Tuples cannot be changed after their creation. Any attempt to modify a tuple will result in a `TypeError`.\n"
      ]
    },
    {
      "cell_type": "code",
      "metadata": {},
      "source": [
        "# Example of immutability\n",
        "my_tuple[0] = 10  # This will raise a TypeError"
      ],
      "execution_count": null,
      "outputs": []
    },
    {
      "cell_type": "markdown",
      "metadata": {},
      "source": [
        "### 2. Ordered\n",
        "Tuples maintain the order of the elements. This means that the first item has index 0, the second item has index 1, and so on."
      ]
    },
    {
      "cell_type": "code",
      "metadata": {},
      "source": [
        "# Accessing elements by index\n",
        "first_item = my_tuple[0]\n",
        "print(first_item)\n"
      ],
      "execution_count": null,
      "outputs": []
    },
    {
      "cell_type": "markdown",
      "metadata": {},
      "source": [
        "### 3. Supports Various Data Types\n",
        "Tuples can contain a mix of data types like integers, strings, floats, or even other tuples."
      ]
    },
    {
      "cell_type": "code",
      "metadata": {},
      "source": [
        "# Mixed data types in a tuple\n",
        "mixed_tuple = (1, 'Python', 3.14, (5, 6))\n",
        "print(mixed_tuple)"
      ],
      "execution_count": null,
      "outputs": []
    },
    {
      "cell_type": "markdown",
      "metadata": {},
      "source": [
        "## Tuple Methods\n",
        "Tuples have only a few methods because of their immutability.\n",
        "\n",
        "### 1. `count()`: Counts the number of occurrences of a value in the tuple.\n",
        "### 2. `index()`: Returns the index of the first occurrence of a value.\n"
      ]
    },
    {
      "cell_type": "code",
      "metadata": {},
      "source": [
        "# Example of tuple methods\n",
        "example_tuple = ('apple', 'banana', 'apple', 'orange')\n",
        "print(example_tuple.count('apple'))  # Counts the number of 'apple'\n",
        "print(example_tuple.index('banana'))  # Returns the index of 'banana'"
      ],
      "execution_count": null,
      "outputs": []
    },
    {
      "cell_type": "markdown",
      "metadata": {},
      "source": [
        "## Common Use Cases of Tuples\n",
        "- **Returning multiple values from a function**: Tuples are often used to return multiple values from functions.\n",
        "- **Using tuples as dictionary keys**: Tuples can be used as keys in dictionaries because they are immutable.\n",
        "- **Storing fixed collections of data**: Tuples are ideal for representing fixed collections of items, like geographic coordinates or RGB values.\n"
      ]
    },
    {
      "cell_type": "code",
      "metadata": {},
      "source": [
        "# Example: Returning multiple values from a function\n",
        "def min_max(numbers):\n",
        "    return (min(numbers), max(numbers))\n",
        "\n",
        "result = min_max([10, 20, 5, 30])\n",
        "print(result)  # Returns a tuple (min, max)"
      ],
      "execution_count": null,
      "outputs": []
    }
  ],
  "metadata": {
    "kernelspec": {
      "display_name": "Python 3",
      "language": "python",
      "name": "python3"
    },
    "language_info": {
      "name": "python",
      "version": "3.8"
    }
  },
  "nbformat": 4,
  "nbformat_minor": 4
}
