{
 "cells": [
  {
   "cell_type": "markdown",
   "metadata": {},
   "source": [
    "# Conditional Statements in Python\n",
    "\n",
    "Conditional statements allow you to execute certain blocks of code based on whether a condition is true or false.\n",
    "\n",
    "In Python, the primary conditional statements are:\n",
    "* if\n",
    "* elif (else if)\n",
    "* else\n",
    "\n",
    "Let's go through each of them with examples."
   ]
  },
  {
   "cell_type": "markdown",
   "metadata": {},
   "source": [
    "# 1. if statement\n",
    "\n",
    "* The simplest form of a conditional statement is the 'if' statement.\n",
    "* It checks if a condition is True, and if so, it executes the block of code inside it."
   ]
  },
  {
   "cell_type": "code",
   "execution_count": 7,
   "metadata": {},
   "outputs": [
    {
     "name": "stdout",
     "output_type": "stream",
     "text": [
      "x is greater than 5\n"
     ]
    }
   ],
   "source": [
    "x = 10\n",
    "if x > 5:\n",
    "    print(\"x is greater than 5\")\n",
    "    \n",
    "# Output: x is greater than 5"
   ]
  },
  {
   "cell_type": "markdown",
   "metadata": {},
   "source": [
    "In this example, since x is 10, which is greater than 5, the condition is True, so the code inside the 'if' block is executed."
   ]
  },
  {
   "cell_type": "markdown",
   "metadata": {},
   "source": [
    "# 2. else statement\n",
    "\n",
    "The 'else' statement can be added after an 'if' statement to specify what should happen if the condition is False."
   ]
  },
  {
   "cell_type": "code",
   "execution_count": 8,
   "metadata": {},
   "outputs": [
    {
     "name": "stdout",
     "output_type": "stream",
     "text": [
      "x is greater than 5\n"
     ]
    }
   ],
   "source": [
    "if x > 5:\n",
    "    print(\"x is greater than 5\")\n",
    "else:\n",
    "    print(\"x is not greater than 5\")\n",
    "    \n",
    "# Output: x is not greater than 5"
   ]
  },
  {
   "cell_type": "markdown",
   "metadata": {},
   "source": [
    "Here, the condition x > 5 is False, so the code inside the 'else' block is executed."
   ]
  },
  {
   "cell_type": "markdown",
   "metadata": {},
   "source": [
    "# 3. elif statement\n",
    "\n",
    "The 'elif' statement (short for \"else if\") allows you to check multiple conditions.\n",
    "If the first condition is False, the program moves on to the next condition and so on."
   ]
  },
  {
   "cell_type": "code",
   "execution_count": 9,
   "metadata": {},
   "outputs": [
    {
     "name": "stdout",
     "output_type": "stream",
     "text": [
      "x is greater than 5 but less than or equal to 10\n"
     ]
    }
   ],
   "source": [
    "x = 7\n",
    "if x > 10:\n",
    "    print(\"x is greater than 10\")\n",
    "elif x > 5:\n",
    "    print(\"x is greater than 5 but less than or equal to 10\")\n",
    "else:\n",
    "    print(\"x is less than or equal to 5\")\n",
    "# Output: x is greater than 5 but less than or equal to 10"
   ]
  },
  {
   "cell_type": "markdown",
   "metadata": {},
   "source": [
    "In this case, the first condition is False, so the program moves to the 'elif' condition, which is True, so the second block is executed."
   ]
  },
  {
   "cell_type": "markdown",
   "metadata": {},
   "source": [
    "# 4. Nested Conditional Statements\n",
    "\n",
    "Conditional statements can also be nested inside one another. This allows you to check multiple conditions in a hierarchical manner."
   ]
  },
  {
   "cell_type": "code",
   "execution_count": 10,
   "metadata": {},
   "outputs": [
    {
     "name": "stdout",
     "output_type": "stream",
     "text": [
      "x is greater than 3 and y is greater than 5\n"
     ]
    }
   ],
   "source": [
    "x = 4\n",
    "y = 10\n",
    "if x > 3:\n",
    "    if y > 5:\n",
    "        print(\"x is greater than 3 and y is greater than 5\")\n",
    "    else:\n",
    "        print(\"x is greater than 3 but y is not greater than 5\")\n",
    "else:\n",
    "    print(\"x is not greater than 3\")\n",
    "# Output: x is greater than 3 and y is greater than 5"
   ]
  },
  {
   "cell_type": "markdown",
   "metadata": {},
   "source": [
    "Here, the outer 'if' condition is True, so we check the inner 'if' condition. Since y is greater than 5, the second block is executed."
   ]
  },
  {
   "cell_type": "markdown",
   "metadata": {},
   "source": [
    "# 5. Ternary Conditional Expression (Shortened version of if-else)\n",
    "\n",
    "You can also write simple conditional statements on a single line using a ternary expression."
   ]
  },
  {
   "cell_type": "code",
   "execution_count": 11,
   "metadata": {},
   "outputs": [
    {
     "name": "stdout",
     "output_type": "stream",
     "text": [
      "x is greater than 10\n"
     ]
    }
   ],
   "source": [
    "x = 15\n",
    "result = \"x is greater than 10\" if x > 10 else \"x is not greater than 10\"\n",
    "print(result)\n",
    "# Output: x is greater than 10"
   ]
  },
  {
   "cell_type": "markdown",
   "metadata": {},
   "source": [
    "In this example, the condition x > 10 is checked, and depending on the result, the value of result is assigned in one line."
   ]
  },
  {
   "cell_type": "markdown",
   "metadata": {},
   "source": [
    "# 6. Logical Operators with Conditional Statements\n",
    "\n",
    "You can also use logical operators like 'and', 'or', and 'not' to combine multiple conditions."
   ]
  },
  {
   "cell_type": "code",
   "execution_count": 12,
   "metadata": {},
   "outputs": [
    {
     "name": "stdout",
     "output_type": "stream",
     "text": [
      "Both conditions are true\n"
     ]
    }
   ],
   "source": [
    "x = 8\n",
    "y = 12\n",
    "if x > 5 and y > 10:\n",
    "    print(\"Both conditions are true\")\n",
    "else:\n",
    "    print(\"At least one condition is false\")\n",
    "# Output: Both conditions are true"
   ]
  },
  {
   "cell_type": "markdown",
   "metadata": {},
   "source": [
    "In this case, both conditions x > 5 and y > 10 are True, so the first block is executed."
   ]
  },
  {
   "cell_type": "markdown",
   "metadata": {},
   "source": [
    "# 7. The 'in' Keyword\n",
    "\n",
    "You can also use the 'in' keyword in conditional statements to check if a value exists within a sequence (like a list, string, etc.)."
   ]
  },
  {
   "cell_type": "code",
   "execution_count": 13,
   "metadata": {},
   "outputs": [
    {
     "name": "stdout",
     "output_type": "stream",
     "text": [
      "Fruit is in the list\n"
     ]
    }
   ],
   "source": [
    "fruit = \"apple\"\n",
    "if fruit in [\"apple\", \"banana\", \"orange\"]:\n",
    "    print(\"Fruit is in the list\")\n",
    "else:\n",
    "    print(\"Fruit is not in the list\")\n",
    "# Output: Fruit is in the list"
   ]
  },
  {
   "cell_type": "markdown",
   "metadata": {},
   "source": [
    "Here, the 'in' keyword checks if the value of fruit is in the list, and since \"apple\" is in the list, the condition is True."
   ]
  }
 ],
 "metadata": {
  "kernelspec": {
   "display_name": "Python [conda env:base] *",
   "language": "python",
   "name": "conda-base-py"
  },
  "language_info": {
   "codemirror_mode": {
    "name": "ipython",
    "version": 3
   },
   "file_extension": ".py",
   "mimetype": "text/x-python",
   "name": "python",
   "nbconvert_exporter": "python",
   "pygments_lexer": "ipython3",
   "version": "3.12.3"
  }
 },
 "nbformat": 4,
 "nbformat_minor": 2
}
