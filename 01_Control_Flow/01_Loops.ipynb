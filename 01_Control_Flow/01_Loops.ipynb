{
 "cells": [
  {
   "cell_type": "markdown",
   "metadata": {},
   "source": [
    "# Python Loops\n",
    "\n",
    "A loop is used to execute a block of code repeatedly, based on certain conditions. \n",
    "There are two main types of loops in Python:\n",
    "1. 'for' loops\n",
    "2. 'while' loops\n",
    "\n",
    "Let's begin by explaining both."
   ]
  },
  {
   "cell_type": "markdown",
   "metadata": {},
   "source": [
    "# 1. FOR LOOP\n",
    "\n",
    "A 'for' loop is used to iterate over a sequence (like a list, tuple, dictionary, set, or string)."
   ]
  },
  {
   "cell_type": "code",
   "execution_count": 1,
   "metadata": {},
   "outputs": [
    {
     "name": "stdout",
     "output_type": "stream",
     "text": [
      "1\n",
      "2\n",
      "3\n",
      "4\n",
      "5\n"
     ]
    }
   ],
   "source": [
    "# Example 1: For loop to iterate over a list\n",
    "my_list = [1, 2, 3, 4, 5]\n",
    "for item in my_list:\n",
    "    print(item)\n",
    "    \n",
    "# Output:\n",
    "# 1\n",
    "# 2\n",
    "# 3\n",
    "# 4\n",
    "# 5"
   ]
  },
  {
   "cell_type": "markdown",
   "metadata": {},
   "source": [
    "In this example, the loop goes through each item in the list and prints it."
   ]
  },
  {
   "cell_type": "code",
   "execution_count": 2,
   "metadata": {},
   "outputs": [
    {
     "name": "stdout",
     "output_type": "stream",
     "text": [
      "1\n",
      "2\n",
      "3\n",
      "4\n",
      "5\n"
     ]
    }
   ],
   "source": [
    "# Example 2: For loop with range\n",
    "# The range() function generates a sequence of numbers, which can be used with a for loop.\n",
    "for i in range(1, 6):  # Starts from 1 and ends at 5 (the stop value is exclusive)\n",
    "    print(i)\n",
    "\n",
    "# Output:\n",
    "# 1\n",
    "# 2\n",
    "# 3\n",
    "# 4\n",
    "# 5"
   ]
  },
  {
   "cell_type": "markdown",
   "metadata": {},
   "source": [
    "# 2. WHILE LOOP\n",
    "\n",
    "A 'while' loop repeats a block of code as long as a condition is true."
   ]
  },
  {
   "cell_type": "code",
   "execution_count": 3,
   "metadata": {},
   "outputs": [
    {
     "name": "stdout",
     "output_type": "stream",
     "text": [
      "1\n",
      "2\n",
      "3\n",
      "4\n",
      "5\n"
     ]
    }
   ],
   "source": [
    "# Example 1: While loop\n",
    "counter = 1\n",
    "while counter <= 5:\n",
    "    print(counter)\n",
    "    counter += 1  # Increment counter to avoid an infinite loop\n",
    "\n",
    "# Output:\n",
    "# 1\n",
    "# 2\n",
    "# 3\n",
    "# 4\n",
    "# 5"
   ]
  },
  {
   "cell_type": "markdown",
   "metadata": {},
   "source": [
    "In this example, the loop runs while the value of counter is less than or equal to 5."
   ]
  },
  {
   "cell_type": "code",
   "execution_count": 4,
   "metadata": {},
   "outputs": [
    {
     "name": "stdout",
     "output_type": "stream",
     "text": [
      "1\n",
      "2\n",
      "3\n",
      "4\n",
      "5\n"
     ]
    }
   ],
   "source": [
    "# Example 2: Using break to exit a loop\n",
    "# The break statement is used to exit the loop prematurely.\n",
    "\n",
    "counter = 1\n",
    "while counter <= 10:\n",
    "    if counter == 6:\n",
    "        break  # Exit the loop when counter equals 6\n",
    "    print(counter)\n",
    "    counter += 1\n",
    "\n",
    "# Output:\n",
    "# 1\n",
    "# 2\n",
    "# 3\n",
    "# 4\n",
    "# 5"
   ]
  },
  {
   "cell_type": "code",
   "execution_count": 5,
   "metadata": {},
   "outputs": [
    {
     "name": "stdout",
     "output_type": "stream",
     "text": [
      "1\n",
      "2\n",
      "4\n",
      "5\n"
     ]
    }
   ],
   "source": [
    "# Example 3: Using continue to skip an iteration\n",
    "# The continue statement skips the current iteration and continues to the next iteration.\n",
    "\n",
    "for i in range(1, 6):\n",
    "    if i == 3:\n",
    "        continue  # Skip printing the number 3\n",
    "    print(i)\n",
    "\n",
    "# Output:\n",
    "# 1\n",
    "# 2\n",
    "# 4\n",
    "# 5"
   ]
  },
  {
   "cell_type": "markdown",
   "metadata": {},
   "source": [
    "# Summary:\n",
    "- A 'for' loop is used to iterate over a sequence (list, tuple, etc.).\n",
    "- A 'while' loop is used when you want to repeat an action as long as a condition is true.\n",
    "- 'break' can be used to exit the loop early.\n",
    "- 'continue' can be used to skip an iteration in the loop.\n",
    "\n",
    "Try experimenting with different loops and conditions!"
   ]
  },
  {
   "cell_type": "code",
   "execution_count": null,
   "metadata": {},
   "outputs": [],
   "source": []
  }
 ],
 "metadata": {
  "kernelspec": {
   "display_name": "Python [conda env:base] *",
   "language": "python",
   "name": "conda-base-py"
  },
  "language_info": {
   "codemirror_mode": {
    "name": "ipython",
    "version": 3
   },
   "file_extension": ".py",
   "mimetype": "text/x-python",
   "name": "python",
   "nbconvert_exporter": "python",
   "pygments_lexer": "ipython3",
   "version": "3.12.3"
  }
 },
 "nbformat": 4,
 "nbformat_minor": 2
}
