{
 "cells": [
  {
   "cell_type": "markdown",
   "id": "9a0d3e9a",
   "metadata": {},
   "source": [
    "# 1. Defining Functions\n",
    "\n",
    "In Python, we define a function using the def keyword. Functions allow us to encapsulate logic into reusable blocks."
   ]
  },
  {
   "cell_type": "code",
   "execution_count": 1,
   "id": "07b98ba8",
   "metadata": {},
   "outputs": [
    {
     "name": "stdout",
     "output_type": "stream",
     "text": [
      "Hello, Alice!\n"
     ]
    }
   ],
   "source": [
    "def greet(name):\n",
    "    \"\"\"This function greets the user with their name.\"\"\"\n",
    "    print(f\"Hello, {name}!\")\n",
    "    \n",
    "# Calling the function\n",
    "greet(\"Alice\")\n",
    "# Output: Hello, Alice!"
   ]
  },
  {
   "cell_type": "markdown",
   "id": "0067ec0f",
   "metadata": {},
   "source": [
    "# 2. Arguments and Return Values\n",
    "\n",
    "## Positional Arguments\n",
    "Positional arguments are the most common form of arguments. They are matched by position in the function call."
   ]
  },
  {
   "cell_type": "code",
   "execution_count": 2,
   "id": "ddb10d3d",
   "metadata": {},
   "outputs": [
    {
     "name": "stdout",
     "output_type": "stream",
     "text": [
      "7\n"
     ]
    }
   ],
   "source": [
    "def add(a, b):\n",
    "    \"\"\"This function adds two numbers.\"\"\"\n",
    "    return a + b\n",
    "\n",
    "# Calling the function with positional arguments\n",
    "result = add(3, 4)\n",
    "print(result)\n",
    "# Output 7"
   ]
  },
  {
   "cell_type": "markdown",
   "id": "241470a9",
   "metadata": {},
   "source": [
    "## Default Arguments\n",
    "\n",
    "You can provide default values to arguments. If no value is passed for an argument, the default value is used."
   ]
  },
  {
   "cell_type": "code",
   "execution_count": 4,
   "id": "1de3c036",
   "metadata": {},
   "outputs": [
    {
     "name": "stdout",
     "output_type": "stream",
     "text": [
      "Hello, Alice!\n",
      "Good morning, Bob!\n"
     ]
    }
   ],
   "source": [
    "def greet(name, greeting=\"Hello\"):\n",
    "    \"\"\"This function greets the user with a custom greeting.\"\"\"\n",
    "    print(f\"{greeting}, {name}!\")\n",
    "\n",
    "# Calling the function with and without the default argument\n",
    "greet(\"Alice\")\n",
    "greet(\"Bob\", \"Good morning\")\n",
    "\n",
    "# Output:\n",
    "#Hello, Alice!\n",
    "#Good morning, Bob!"
   ]
  },
  {
   "cell_type": "markdown",
   "id": "166dfd53",
   "metadata": {},
   "source": [
    "# Variable-Length Arguments (`*args`, `**kwargs`)\n",
    "`*args` allows you to pass a variable number of positional arguments.\n",
    "\n",
    "`**kwargs` allows you to pass a variable number of keyword arguments."
   ]
  },
  {
   "cell_type": "code",
   "execution_count": 6,
   "id": "c9ded588",
   "metadata": {},
   "outputs": [
    {
     "name": "stdout",
     "output_type": "stream",
     "text": [
      "Positional arguments: (1, 2, 3)\n",
      "Keyword arguments: {'name': 'Alice', 'age': 25}\n"
     ]
    }
   ],
   "source": [
    "def print_info(*args, **kwargs):\n",
    "    \"\"\"This function prints a list of arguments and keyword arguments.\"\"\"\n",
    "    print(\"Positional arguments:\", args)\n",
    "    print(\"Keyword arguments:\", kwargs)\n",
    "\n",
    "# Calling the function with variable arguments\n",
    "print_info(1, 2, 3, name=\"Alice\", age=25)\n",
    "# Output\n",
    "#Positional arguments: (1, 2, 3)\n",
    "#Keyword arguments: {'name': 'Alice', 'age': 25}"
   ]
  },
  {
   "cell_type": "markdown",
   "id": "9a76d92b",
   "metadata": {},
   "source": [
    "# 3. Lambda Functions\n",
    "\n",
    "Lambda functions are small anonymous functions defined with the lambda keyword. They can take any number of arguments but can only have one expression.\n",
    "\n",
    "*lambda arguments: expression*"
   ]
  },
  {
   "cell_type": "markdown",
   "id": "a1b125e4",
   "metadata": {},
   "source": [
    "### Example: Basic Lambda"
   ]
  },
  {
   "cell_type": "code",
   "execution_count": 7,
   "id": "e987eaaa",
   "metadata": {},
   "outputs": [
    {
     "name": "stdout",
     "output_type": "stream",
     "text": [
      "12\n"
     ]
    }
   ],
   "source": [
    "multiply = lambda x, y: x * y\n",
    "result = multiply(3, 4)\n",
    "print(result)\n",
    "# Ouput 12"
   ]
  },
  {
   "cell_type": "markdown",
   "id": "4e874e33",
   "metadata": {},
   "source": [
    "### Example: Using Lambda with `map()`"
   ]
  },
  {
   "cell_type": "code",
   "execution_count": 9,
   "id": "0eb1c033",
   "metadata": {},
   "outputs": [
    {
     "name": "stdout",
     "output_type": "stream",
     "text": [
      "[1, 4, 9, 16]\n"
     ]
    }
   ],
   "source": [
    "numbers = [1, 2, 3, 4]\n",
    "squared = list(map(lambda x: x**2, numbers))\n",
    "print(squared)\n",
    "# Output [1, 4, 9, 16]"
   ]
  },
  {
   "cell_type": "markdown",
   "id": "91c36da5",
   "metadata": {},
   "source": [
    "# 4. Recursion\n",
    "\n",
    "Recursion is the process in which a function calls itself. A recursive function must have a base case that stops the recursion."
   ]
  },
  {
   "cell_type": "markdown",
   "id": "e48c6fe9",
   "metadata": {},
   "source": [
    "### Example: Factorial of a number (Recursion)\n",
    "\n",
    "The factorial of a number is defined as:\n",
    "\n",
    "`factorial(0) = 1`\n",
    "\n",
    "`factorial(n) = n * factorial(n-1)` for `n > 0`"
   ]
  },
  {
   "cell_type": "code",
   "execution_count": 10,
   "id": "5a1ac35d",
   "metadata": {},
   "outputs": [
    {
     "name": "stdout",
     "output_type": "stream",
     "text": [
      "120\n"
     ]
    }
   ],
   "source": [
    "def factorial(n):\n",
    "    \"\"\"This function calculates the factorial of a number.\"\"\"\n",
    "    if n == 0:  # Base case\n",
    "        return 1\n",
    "    else:\n",
    "        return n * factorial(n - 1)\n",
    "\n",
    "# Calling the function\n",
    "print(factorial(5))\n",
    "# Output 120"
   ]
  },
  {
   "cell_type": "markdown",
   "id": "9780ab10",
   "metadata": {},
   "source": [
    "### Example: Fibonacci Sequence (Recursion)\n",
    "The Fibonacci sequence is defined as:\n",
    "\n",
    "`fib(0) = 0`\n",
    "\n",
    "`fib(1) = 1`\n",
    "\n",
    "`fib(n) = fib(n-1) + fib(n-2)` for `n > 1`"
   ]
  },
  {
   "cell_type": "code",
   "execution_count": 11,
   "id": "ab15f25e",
   "metadata": {},
   "outputs": [
    {
     "name": "stdout",
     "output_type": "stream",
     "text": [
      "8\n"
     ]
    }
   ],
   "source": [
    "def fibonacci(n):\n",
    "    \"\"\"This function returns the nth Fibonacci number.\"\"\"\n",
    "    if n == 0:\n",
    "        return 0\n",
    "    elif n == 1:\n",
    "        return 1\n",
    "    else:\n",
    "        return fibonacci(n - 1) + fibonacci(n - 2)\n",
    "\n",
    "# Calling the function\n",
    "print(fibonacci(6))\n",
    "# Output 8"
   ]
  },
  {
   "cell_type": "markdown",
   "id": "c4a0779c",
   "metadata": {},
   "source": [
    "# Conclusion\n",
    "\n",
    "In this notebook, we covered the basics of Python functions, including how to define functions, work with arguments (including default and variable-length arguments), create lambda functions, and implement recursion. Functions are a powerful feature of Python, allowing for reusable, efficient code that can be customized for a variety of tasks."
   ]
  }
 ],
 "metadata": {
  "kernelspec": {
   "display_name": "Python [conda env:base] *",
   "language": "python",
   "name": "conda-base-py"
  },
  "language_info": {
   "codemirror_mode": {
    "name": "ipython",
    "version": 3
   },
   "file_extension": ".py",
   "mimetype": "text/x-python",
   "name": "python",
   "nbconvert_exporter": "python",
   "pygments_lexer": "ipython3",
   "version": "3.12.3"
  }
 },
 "nbformat": 4,
 "nbformat_minor": 5
}
