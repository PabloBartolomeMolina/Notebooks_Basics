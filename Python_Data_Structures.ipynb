{
 "cells": [
  {
   "cell_type": "markdown",
   "metadata": {},
   "source": [
    "# Python List : Basic information and access\n",
    "\n",
    "The list is similar to array in C/C++. The advantage in Python is that it can hold different types of data inside a single list, like integers and strings. \n",
    "\n",
    "Formally list are ordered sequences of data written using square brackets \"[]\" and commas \",\". They are **mutable** objects, which means we can modify any element of the list, remove or add elements and perform operations on them. In this Notebook, some examples are seen through methods and functions.\n",
    "\n",
    "Items of a list can be accessed through numerical indexes. Index starts at 0 and ends with one less that the total number of elements in the list.\n",
    "**my_list[0]** access the 1st element\n",
    "**my_list[start:end]** allows to access from the element with index \"start\" to the element before the index \"end\", since \"start is inclusive and \"end\" is exlusive. Default values are 0 for start and (number of elements - 1) for \"end\". \n",
    "It is also possible to use **negative indexes**, so we count from the very last element, counting from -1 for the last element."
   ]
  },
  {
   "cell_type": "code",
   "execution_count": 10,
   "metadata": {},
   "outputs": [
    {
     "name": "stdout",
     "output_type": "stream",
     "text": [
      "Full list:  [1, 2, 3, 'hello']\n",
      "The type of \"my_list\" is:  <class 'list'>\n",
      "First element:  1\n",
      "Two first elements:  [1, 2]\n",
      "List from 2nd element:  [3, 'hello']\n",
      "List until 2nd element:  [1, 2]\n",
      "Last element:  hello\n"
     ]
    }
   ],
   "source": [
    "my_list = [1, 2, 3, \"hello\"]\n",
    "\n",
    "print(\"Full list: \", my_list)\n",
    "print('The type of \"my_list\" is: ', type(my_list))\n",
    "\n",
    "# Print different parts of the list using the indexing.\n",
    "print(\"First element: \", my_list[0])   # Access the 1st element.\n",
    "print(\"Two first elements: \", my_list[0:2]) # Access the 2 first elements.\n",
    "print(\"List from 2nd element: \", my_list[2:])  # Access all elements starting with the 3rd one.\n",
    "print(\"List until 2nd element: \", my_list[:2])  # Access all elements until the 3rd one excluded.\n",
    "print(\"Last element: \", my_list[-1])  # Access the last element."
   ]
  },
  {
   "cell_type": "markdown",
   "metadata": {},
   "source": [
    "# Python List : Important methods\n",
    "Data in a tuple is written using parenthesis \"()\" and commas \",\".\n",
    "\n",
    "* **append(x):** Adds an item x to the end of the list.\n",
    "* **extend(iterable):** Extends the list by appending all the items from an iterable (e.g., another list).\n",
    "* **insert(i, x):** Inserts an item x at a given position i.\n",
    "* **remove(x):** Removes the first item in the list whose value is x.\n",
    "* **pop([i]):** Removes and returns the item at the given position i. If no index is specified, it removes and returns the last item.\n",
    "* **clear():** Removes all items from the list.\n",
    "* **index(x[, start[, end]]):** Returns the index of the first item whose value is x. You can optionally specify start and end to limit the search.\n",
    "* **count(x):** Returns the number of occurrences of x in the list.\n",
    "* **sort(key=None, reverse=False):** Sorts the items of the list in place (optional key and reverse parameters). It only works with numerical lists. If a string is present, it will return an error.\n",
    "* **reverse():** Reverses the elements of the list in place.\n",
    "* **copy():** Returns a shallow copy of the list."
   ]
  },
  {
   "cell_type": "code",
   "execution_count": 27,
   "metadata": {},
   "outputs": [
    {
     "name": "stdout",
     "output_type": "stream",
     "text": [
      "my_list after appending an element:  [1, 2, 3, 'hello', 'bye!']\n",
      "my_list after extending with a list:  [1, 2, 3, 'hello', 'bye!', 4, 5, 6]\n",
      "my_list after inserting an element in index 2 (3rd element):  [1, 2, 'Surprise!', 3, 'hello', 'bye!', 4, 5, 6]\n",
      "my_list after removing element 'bye!':  [1, 2, 'Surprise!', 3, 'hello', 4, 5, 6]\n",
      "my_list after poping last element:  [1, 2, 'Surprise!', 3, 'hello', 4, 5]\n",
      "my_list after popping element with index 1:  [1, 'Surprise!', 3, 'hello', 4, 5]\n",
      "Index of element with value '3':  2\n",
      "Occurences of element with value '3':  1\n",
      "my_list_num after sorting it:  None\n",
      "my_list after reversing it:  None\n",
      "copied my_list:  [5, 4, 'hello', 3, 'Surprise!', 1]\n",
      "my_list after appending an element:  []\n"
     ]
    }
   ],
   "source": [
    "my_list = [1, 2, 3, \"hello\"]\n",
    "\n",
    "my_list.append(\"bye!\")\n",
    "print(\"my_list after appending an element: \", my_list)\n",
    "\n",
    "my_list.extend([4, 5, 6])\n",
    "print(\"my_list after extending with a list: \", my_list)\n",
    "\n",
    "my_list.insert(2, \"Surprise!\")\n",
    "print(\"my_list after inserting an element in index 2 (3rd element): \", my_list)\n",
    "\n",
    "my_list.remove(\"bye!\")\n",
    "print(\"my_list after removing element 'bye!': \", my_list)\n",
    "\n",
    "my_list.pop()\n",
    "print(\"my_list after poping last element: \", my_list)\n",
    "\n",
    "my_list.pop(1)\n",
    "print(\"my_list after popping element with index 1: \", my_list)\n",
    "\n",
    "print(\"Index of element with value '3': \", my_list.index(3))\n",
    "\n",
    "print(\"Occurences of element with value '3': \", my_list.count(3))\n",
    "\n",
    "my_list_num = [3, 2, 5, 1, 8]\n",
    "my_list_num = my_list_num.sort()\n",
    "print(\"my_list_num after sorting it: \", my_list_num)\n",
    "\n",
    "print(\"my_list after reversing it: \", my_list.reverse())\n",
    "\n",
    "copied = my_list.copy()\n",
    "print(\"copied my_list: \", copied)\n",
    "\n",
    "my_list.clear()\n",
    "print(\"my_list after appending an element: \", my_list)"
   ]
  },
  {
   "cell_type": "markdown",
   "metadata": {},
   "source": [
    "# Python List : List Comprehensions\n",
    "\n"
   ]
  },
  {
   "cell_type": "code",
   "execution_count": null,
   "metadata": {},
   "outputs": [],
   "source": []
  },
  {
   "cell_type": "markdown",
   "metadata": {},
   "source": [
    "# Python List : Iterating over Lists\n"
   ]
  },
  {
   "cell_type": "code",
   "execution_count": null,
   "metadata": {},
   "outputs": [],
   "source": []
  },
  {
   "cell_type": "markdown",
   "metadata": {},
   "source": [
    "# Python List : Common List Functions\n"
   ]
  },
  {
   "cell_type": "code",
   "execution_count": null,
   "metadata": {},
   "outputs": [],
   "source": []
  }
 ],
 "metadata": {
  "kernelspec": {
   "display_name": "Python [conda env:base] *",
   "language": "python",
   "name": "conda-base-py"
  },
  "language_info": {
   "codemirror_mode": {
    "name": "ipython",
    "version": 3
   },
   "file_extension": ".py",
   "mimetype": "text/x-python",
   "name": "python",
   "nbconvert_exporter": "python",
   "pygments_lexer": "ipython3",
   "version": "3.12.4"
  }
 },
 "nbformat": 4,
 "nbformat_minor": 2
}
