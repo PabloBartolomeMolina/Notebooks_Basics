{
 "cells": [
  {
   "cell_type": "markdown",
   "id": "0ede5802",
   "metadata": {},
   "source": [
    "# Python Dictionary\n",
    "\n",
    "Dictionaries are one of the most powerful and flexible built-in data types in Python. They allow you to store and retrieve values based on unique keys.\n",
    "\n",
    "A Python dictionary is an unordered collection of items where each item is stored as a key-value pair. Unlike lists, which are indexed by positions, dictionaries are indexed by keys, and these keys must be unique and immutable (e.g., strings, numbers, or tuples).\n",
    "\n",
    "- **Key**: A unique and immutable identifier.\n",
    "- **Value**: Data or object associated with the key.\n",
    "\n",
    "\n",
    "## Creating a Dictionary\n",
    "You can create a dictionary by enclosing key-value pairs in curly braces `{}`. The syntax is:"
   ]
  },
  {
   "cell_type": "code",
   "execution_count": 1,
   "id": "447c4c3f",
   "metadata": {},
   "outputs": [
    {
     "name": "stdout",
     "output_type": "stream",
     "text": [
      "{'name': 'Alice', 'age': 25, 'city': 'New York'}\n"
     ]
    }
   ],
   "source": [
    "my_dict = {\n",
    "    \"name\": \"Alice\",\n",
    "    \"age\": 25,\n",
    "    \"city\": \"New York\"\n",
    "}\n",
    "print(my_dict)"
   ]
  },
  {
   "cell_type": "markdown",
   "id": "bd82a0f1",
   "metadata": {},
   "source": [
    "## Accessing Values in a Dictionary\n",
    "You can access values in a dictionary using the corresponding key inside square brackets `[]`. If the key does not exist, Python will raise a `KeyError`.\n"
   ]
  },
  {
   "cell_type": "code",
   "execution_count": 2,
   "id": "eaa456f3",
   "metadata": {},
   "outputs": [
    {
     "name": "stdout",
     "output_type": "stream",
     "text": [
      "Alice\n",
      "25\n"
     ]
    }
   ],
   "source": [
    "# Accessing values\n",
    "print(my_dict[\"name\"])  # Output: Alice\n",
    "print(my_dict[\"age\"])   # Output: 25\n",
    "\n",
    "# If the key doesn't exist\n",
    "# print(my_dict[\"country\"])  # Raises KeyError"
   ]
  },
  {
   "cell_type": "markdown",
   "id": "d1413bd3",
   "metadata": {},
   "source": [
    "## Accessing Values in a Dictionary\n",
    "\n",
    "You can access values in a dictionary using the corresponding key inside square brackets `[]`. If the key does not exist, Python will raise a `KeyError`."
   ]
  },
  {
   "cell_type": "code",
   "execution_count": 3,
   "id": "dc860073",
   "metadata": {},
   "outputs": [
    {
     "name": "stdout",
     "output_type": "stream",
     "text": [
      "Alice\n",
      "25\n"
     ]
    }
   ],
   "source": [
    "# Accessing values\n",
    "print(my_dict[\"name\"])  # Output: Alice\n",
    "print(my_dict[\"age\"])   # Output: 25\n",
    "\n",
    "# If the key doesn't exist\n",
    "# print(my_dict[\"country\"])  # Raises KeyError"
   ]
  },
  {
   "cell_type": "markdown",
   "id": "9533536a",
   "metadata": {},
   "source": [
    "A safer way to access values is using the .get() method, which returns None if the key is missing."
   ]
  },
  {
   "cell_type": "code",
   "execution_count": 4,
   "id": "e89ba210",
   "metadata": {},
   "outputs": [
    {
     "name": "stdout",
     "output_type": "stream",
     "text": [
      "Key not found\n"
     ]
    }
   ],
   "source": [
    "# Using .get() to avoid KeyError\n",
    "print(my_dict.get(\"country\", \"Key not found\"))  # Output: Key not found"
   ]
  },
  {
   "cell_type": "markdown",
   "id": "1406c174",
   "metadata": {},
   "source": [
    "## Adding and Modifying Items\n",
    "\n",
    "Dictionaries are mutable, so you can add new key-value pairs or update existing ones."
   ]
  },
  {
   "cell_type": "code",
   "execution_count": 5,
   "id": "548d81e2",
   "metadata": {},
   "outputs": [
    {
     "name": "stdout",
     "output_type": "stream",
     "text": [
      "{'name': 'Alice', 'age': 25, 'city': 'New York', 'country': 'USA'}\n",
      "{'name': 'Alice', 'age': 26, 'city': 'New York', 'country': 'USA'}\n"
     ]
    }
   ],
   "source": [
    "# Adding a new key-value pair\n",
    "my_dict[\"country\"] = \"USA\"\n",
    "print(my_dict)\n",
    "\n",
    "# Modifying an existing key-value pair\n",
    "my_dict[\"age\"] = 26\n",
    "print(my_dict)"
   ]
  },
  {
   "cell_type": "markdown",
   "id": "a563d5e9",
   "metadata": {},
   "source": [
    "## Removing Items\n",
    "\n",
    "You can remove items from a dictionary using `del`, `.pop()`, or `.popitem()`.\n",
    "\n",
    "- `del` removes the item with the specified key.\n",
    "- `.pop()` removes the item with the specified key and returns its value.\n",
    "- `.popitem()` removes and returns the last inserted key-value pair (in versions ≥3.7)."
   ]
  },
  {
   "cell_type": "code",
   "execution_count": 6,
   "id": "deee03e7",
   "metadata": {},
   "outputs": [
    {
     "name": "stdout",
     "output_type": "stream",
     "text": [
      "{'name': 'Alice', 'age': 26, 'country': 'USA'}\n",
      "26\n",
      "{'name': 'Alice', 'country': 'USA'}\n",
      "('country', 'USA')\n",
      "{'name': 'Alice'}\n"
     ]
    }
   ],
   "source": [
    "# Using del\n",
    "del my_dict[\"city\"]\n",
    "print(my_dict)\n",
    "\n",
    "# Using pop()\n",
    "age = my_dict.pop(\"age\")\n",
    "print(age)\n",
    "print(my_dict)\n",
    "\n",
    "# Using popitem()\n",
    "last_item = my_dict.popitem()\n",
    "print(last_item)\n",
    "print(my_dict)"
   ]
  },
  {
   "cell_type": "markdown",
   "id": "2b712861",
   "metadata": {},
   "source": [
    "## Useful Dictionary Methods\n",
    "\n",
    "Python provides a number of built-in methods for dictionary manipulation.\n",
    "\n",
    "- `.keys()` - returns all the keys\n",
    "- `.values()` - returns all the values\n",
    "- `.items()` - returns all the key-value pairs"
   ]
  },
  {
   "cell_type": "code",
   "execution_count": 7,
   "id": "7c087bca",
   "metadata": {},
   "outputs": [
    {
     "name": "stdout",
     "output_type": "stream",
     "text": [
      "dict_keys(['name', 'country', 'age'])\n",
      "dict_values(['Alice', 'USA', 26])\n",
      "dict_items([('name', 'Alice'), ('country', 'USA'), ('age', 26)])\n"
     ]
    }
   ],
   "source": [
    "# Example of dictionary methods\n",
    "my_dict = {\"name\": \"Alice\", \"country\": \"USA\", \"age\": 26}\n",
    "\n",
    "print(my_dict.keys())    # dict_keys(['name', 'country', 'age'])\n",
    "print(my_dict.values())  # dict_values(['Alice', 'USA', 26])\n",
    "print(my_dict.items())   # dict_items([('name', 'Alice'), ('country', 'USA'), ('age', 26)])"
   ]
  },
  {
   "cell_type": "markdown",
   "id": "033996eb",
   "metadata": {},
   "source": [
    "## Looping Through a Dictionary\n",
    "\n",
    "You can loop over a dictionary in Python using a `for` loop. You can iterate through the keys, values, or both key-value pairs."
   ]
  },
  {
   "cell_type": "code",
   "execution_count": 8,
   "id": "64514b7b",
   "metadata": {},
   "outputs": [
    {
     "name": "stdout",
     "output_type": "stream",
     "text": [
      "Key: name, Value: Alice\n",
      "Key: country, Value: USA\n",
      "Key: age, Value: 26\n",
      "Value: Alice\n",
      "Value: USA\n",
      "Value: 26\n",
      "Key: name, Value: Alice\n",
      "Key: country, Value: USA\n",
      "Key: age, Value: 26\n"
     ]
    }
   ],
   "source": [
    "# Looping through keys\n",
    "for key in my_dict:\n",
    "    print(f\"Key: {key}, Value: {my_dict[key]}\")\n",
    "\n",
    "# Looping through values\n",
    "for value in my_dict.values():\n",
    "    print(f\"Value: {value}\")\n",
    "\n",
    "# Looping through key-value pairs\n",
    "for key, value in my_dict.items():\n",
    "    print(f\"Key: {key}, Value: {value}\")"
   ]
  },
  {
   "cell_type": "markdown",
   "id": "f64d2cb0",
   "metadata": {},
   "source": [
    "## Dictionary Comprehensions\n",
    "\n",
    "Just like list comprehensions, you can create dictionaries using dictionary comprehensions. This provides a concise way to generate dictionaries."
   ]
  },
  {
   "cell_type": "code",
   "execution_count": 9,
   "id": "c0e5570a",
   "metadata": {},
   "outputs": [
    {
     "name": "stdout",
     "output_type": "stream",
     "text": [
      "{1: 1, 2: 4, 3: 9, 4: 16, 5: 25}\n",
      "{'Alice': 'name', 'USA': 'country', 26: 'age'}\n"
     ]
    }
   ],
   "source": [
    "# Example: Creating a dictionary from a list of numbers\n",
    "squares = {x: x**2 for x in range(1, 6)}\n",
    "print(squares)  # Output: {1: 1, 2: 4, 3: 9, 4: 16, 5: 25}\n",
    "\n",
    "# Example: Swapping keys and values\n",
    "swapped_dict = {v: k for k, v in my_dict.items()}\n",
    "print(swapped_dict)"
   ]
  },
  {
   "cell_type": "markdown",
   "id": "6ff7d932",
   "metadata": {},
   "source": [
    "## Nested Dictionaries\n",
    "\n",
    "You can create dictionaries within dictionaries. This is useful when representing more complex data structures like hierarchical or nested information."
   ]
  },
  {
   "cell_type": "code",
   "execution_count": 10,
   "id": "a1236d32",
   "metadata": {},
   "outputs": [
    {
     "name": "stdout",
     "output_type": "stream",
     "text": [
      "90\n"
     ]
    }
   ],
   "source": [
    "# Example of a nested dictionary\n",
    "student_info = {\n",
    "    \"student_1\": {\"name\": \"John\", \"age\": 22, \"grades\": {\"math\": 90, \"science\": 85}},\n",
    "    \"student_2\": {\"name\": \"Jane\", \"age\": 21, \"grades\": {\"math\": 88, \"science\": 92}},\n",
    "}\n",
    "\n",
    "# Accessing nested dictionary values\n",
    "print(student_info[\"student_1\"][\"grades\"][\"math\"])  # Output: 90"
   ]
  },
  {
   "cell_type": "markdown",
   "id": "157b95fb",
   "metadata": {},
   "source": [
    "## Handling Missing Keys with `defaultdict`\n",
    "\n",
    "The `collections.defaultdict` provides a convenient way to handle missing keys without raising a `KeyError`. You specify a default factory function that provides a default value if the key is missing."
   ]
  },
  {
   "cell_type": "code",
   "execution_count": 11,
   "id": "1d49c3b3",
   "metadata": {},
   "outputs": [
    {
     "name": "stdout",
     "output_type": "stream",
     "text": [
      "defaultdict(<class 'list'>, {'fruits': ['apple'], 'vegetables': ['carrot']})\n"
     ]
    }
   ],
   "source": [
    "from collections import defaultdict\n",
    "\n",
    "# Example: Default dictionary with default value as a list\n",
    "dd = defaultdict(list)\n",
    "dd[\"fruits\"].append(\"apple\")\n",
    "dd[\"vegetables\"].append(\"carrot\")\n",
    "print(dd)  # Output: defaultdict(<class 'list'>, {'fruits': ['apple'], 'vegetables': ['carrot']})"
   ]
  },
  {
   "cell_type": "markdown",
   "id": "03f91ba1",
   "metadata": {},
   "source": [
    "## Conclusion\n",
    "\n",
    "Dictionaries are a core data structure in Python that allow you to efficiently store and retrieve data using unique keys. From basic operations like adding and removing elements to advanced techniques like dictionary comprehensions and handling nested dictionaries, dictionaries offer immense flexibility.\n",
    "\n",
    "Experiment with these concepts, and see how you can apply dictionaries in real-world problems to optimize your Python programming!\n"
   ]
  },
  {
   "cell_type": "code",
   "execution_count": null,
   "id": "03870b16",
   "metadata": {},
   "outputs": [],
   "source": []
  }
 ],
 "metadata": {
  "kernelspec": {
   "display_name": "Python [conda env:base] *",
   "language": "python",
   "name": "conda-base-py"
  },
  "language_info": {
   "codemirror_mode": {
    "name": "ipython",
    "version": 3
   },
   "file_extension": ".py",
   "mimetype": "text/x-python",
   "name": "python",
   "nbconvert_exporter": "python",
   "pygments_lexer": "ipython3",
   "version": "3.12.4"
  }
 },
 "nbformat": 4,
 "nbformat_minor": 5
}
