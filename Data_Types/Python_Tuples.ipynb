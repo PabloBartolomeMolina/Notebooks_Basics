{
 "cells": [
  {
   "cell_type": "markdown",
   "id": "d995387a",
   "metadata": {},
   "source": [
    "# Python Tuple : Basic information and access"
   ]
  },
  {
   "cell_type": "code",
   "execution_count": null,
   "id": "4bdbec96",
   "metadata": {},
   "outputs": [],
   "source": []
  },
  {
   "cell_type": "markdown",
   "id": "a2314f3f",
   "metadata": {},
   "source": [
    "# Python Tuple : Important methods"
   ]
  },
  {
   "cell_type": "code",
   "execution_count": null,
   "id": "f7978ab4",
   "metadata": {},
   "outputs": [],
   "source": []
  },
  {
   "cell_type": "markdown",
   "id": "f1fda9c5",
   "metadata": {},
   "source": [
    "# Python Tuple : Iterating over Dictionary"
   ]
  },
  {
   "cell_type": "code",
   "execution_count": null,
   "id": "1352b7bd",
   "metadata": {},
   "outputs": [],
   "source": []
  }
 ],
 "metadata": {
  "kernelspec": {
   "display_name": "Python [conda env:base] *",
   "language": "python",
   "name": "conda-base-py"
  },
  "language_info": {
   "codemirror_mode": {
    "name": "ipython",
    "version": 3
   },
   "file_extension": ".py",
   "mimetype": "text/x-python",
   "name": "python",
   "nbconvert_exporter": "python",
   "pygments_lexer": "ipython3",
   "version": "3.12.4"
  }
 },
 "nbformat": 4,
 "nbformat_minor": 5
}
