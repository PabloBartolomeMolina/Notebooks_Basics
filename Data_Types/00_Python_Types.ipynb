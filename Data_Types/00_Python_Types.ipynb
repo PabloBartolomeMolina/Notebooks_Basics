{
 "cells": [
  {
   "cell_type": "markdown",
   "metadata": {},
   "source": [
    "# Python Numeric Data Types\n",
    "\n",
    "* int - holds signed integers of non-limited length.\n",
    "* long- holds long integers(exists in Python 2.x, deprecated in Python 3.x).\n",
    "* float- holds floating precision numbers and it’s accurate up to 15 decimal places.\n",
    "* complex- holds complex numbers"
   ]
  },
  {
   "cell_type": "code",
   "execution_count": 1,
   "metadata": {},
   "outputs": [
    {
     "name": "stdout",
     "output_type": "stream",
     "text": [
      "The type of variable having value 100  is  <class 'int'>\n",
      "The type of variable having value 10.2345  is  <class 'float'>\n",
      "The type of variable having value (100+3j)  is  <class 'complex'>\n"
     ]
    }
   ],
   "source": [
    "# integer\n",
    "a = 100 \n",
    "print(\"The type of variable having value\", a, \" is \", type(a))\n",
    "\n",
    "# float\n",
    "b=10.2345\n",
    "print(\"The type of variable having value\", b, \" is \", type(b))\n",
    "\n",
    "# omplex \n",
    "c=100+3j\n",
    "print(\"The type of variable having value\", c, \" is \", type(c))"
   ]
  },
  {
   "cell_type": "markdown",
   "metadata": {},
   "source": [
    "# Python String Data Type\n",
    "\n",
    "The string is a sequence of characters, enclosed by single or double quotes. Python supports Unicode characters.\n",
    "\n",
    "If you need to add quotes in your string, you need to use the opposite type to enclose the string.\n",
    "\n",
    "In any case, the function type() will give us the same result. \"<class 'str'>\""
   ]
  },
  {
   "cell_type": "code",
   "execution_count": 4,
   "metadata": {},
   "outputs": [
    {
     "name": "stdout",
     "output_type": "stream",
     "text": [
      "Hello World!\n",
      "Hello World!\n",
      "Hello 'World'!\n",
      "Type of quoted string is <class 'str'>\n"
     ]
    }
   ],
   "source": [
    "string_1 = \"Hello World!\"\n",
    "string_2 = 'Hello World!'\n",
    "string_3 = \"Hello 'World'!\"\n",
    "\n",
    "print(string_1)\n",
    "print(string_2)\n",
    "print(string_3)\n",
    "\n",
    "print(\"Type of quoted string is\", type(string_3))"
   ]
  },
  {
   "cell_type": "markdown",
   "metadata": {},
   "source": [
    "Strings admit some operations, even if it is not evident to operate with concatenations of characters.\n",
    "We can add strings by using the operation \"+\" and we can also repeat strings within the same one by using the operation \"*\"."
   ]
  },
  {
   "cell_type": "code",
   "execution_count": 11,
   "metadata": {},
   "outputs": [
    {
     "name": "stdout",
     "output_type": "stream",
     "text": [
      "Hello World!\n",
      "Hello Hello Hello \n"
     ]
    }
   ],
   "source": [
    "string_a = \"Hello \"\n",
    "string_b = \"World!\"\n",
    "\n",
    "# Addition of strings.\n",
    "string_addition = string_a + string_b\n",
    "print(string_addition)\n",
    "\n",
    "# Repetition of strings.\n",
    "string_repeat = string_a * 3\n",
    "print(string_repeat)"
   ]
  },
  {
   "cell_type": "markdown",
   "metadata": {},
   "source": [
    "# Python List\n",
    "The list is similar to array in C/C++. The advantage in Python is that it can hold different types of data inside a single list, like integers and strings. \n",
    "\n",
    "Formally list are ordered sequences of data written using square brackets \"[]\" and commas \",\".\n",
    "Items of a list can be accessed through numerical indexes."
   ]
  },
  {
   "cell_type": "code",
   "execution_count": 13,
   "metadata": {},
   "outputs": [
    {
     "name": "stdout",
     "output_type": "stream",
     "text": [
      "[1, 2, 3, 'hello']\n",
      "The type of \"my_list\" is  <class 'list'>\n",
      "1\n",
      "[1, 2]\n",
      "[3, 'hello']\n",
      "[1, 2]\n"
     ]
    }
   ],
   "source": [
    "my_list = [1, 2, 3, \"hello\"]\n",
    "\n",
    "print(my_list)\n",
    "print('The type of \"my_list\" is ', type(my_list))\n",
    "\n",
    "# Print different parts of the list using the indexing.\n",
    "print(my_list[0])\n",
    "print(my_list[0:2])\n",
    "print(my_list[2:])\n",
    "print(my_list[:2])"
   ]
  },
  {
   "cell_type": "markdown",
   "metadata": {},
   "source": [
    "# Python Tuple\n",
    "The tuple is a data type defined as a sequence of data that is immutable. That means data in a tuple is write-protected and cannot be modified once created.\n",
    "\n",
    "Data in a tuple is written using parenthesis \"()\" and commas \",\".\n",
    "\n",
    "Tuples can hold different types of data inside a single list, like integers and strings. Their items can be accessed through numerical indexes."
   ]
  },
  {
   "cell_type": "code",
   "execution_count": 15,
   "metadata": {},
   "outputs": [
    {
     "name": "stdout",
     "output_type": "stream",
     "text": [
      "(1, 2, 3, 'hello')\n",
      "The type of \"my_tuple\" is  <class 'tuple'>\n",
      "1\n",
      "[1, 2]\n",
      "[3, 'hello']\n",
      "[1, 2]\n"
     ]
    }
   ],
   "source": [
    "my_tuple = (1, 2, 3, \"hello\")\n",
    "\n",
    "print(my_tuple)\n",
    "print('The type of \"my_tuple\" is ', type(my_tuple))\n",
    "\n",
    "# Print different parts of the tuple using the indexing.\n",
    "print(my_list[0])\n",
    "print(my_list[0:2])\n",
    "print(my_list[2:])\n",
    "print(my_list[:2])"
   ]
  },
  {
   "cell_type": "markdown",
   "metadata": {},
   "source": [
    "# Python Dictionary\n",
    "\n",
    "Dictionaries are unordered sequences of data of key-value pair form. \n",
    "Dictionaries are written within curly braces \"{}\" in the form key:value. It is very useful to retrieve data in an optimized way among a large amount of data.\n",
    "Pairs can be accessed by using the keys."
   ]
  },
  {
   "cell_type": "code",
   "execution_count": 17,
   "metadata": {},
   "outputs": [
    {
     "name": "stdout",
     "output_type": "stream",
     "text": [
      "{'id_1': [1, 2, 3], 'id_2': [4, 5, 6]}\n",
      "The type of \"my_dic\" is  <class 'dict'>\n",
      "[4, 5, 6]\n"
     ]
    }
   ],
   "source": [
    "my_dic = {'id_1':[1,2,3], 'id_2':[4,5,6]}\n",
    "\n",
    "print(my_dic)\n",
    "print('The type of \"my_dic\" is ', type(my_dic))\n",
    "\n",
    "# Access by using the key to the second element.\n",
    "print(my_dic['id_2'])"
   ]
  },
  {
   "cell_type": "markdown",
   "metadata": {},
   "source": [
    "# Extra information\n",
    "\n",
    "Some useful methods that are specific for each data type or data structure are described in another Jupyter Notebooks of the repository."
   ]
  },
  {
   "cell_type": "code",
   "execution_count": null,
   "metadata": {},
   "outputs": [],
   "source": []
  }
 ],
 "metadata": {
  "kernelspec": {
   "display_name": "Python [conda env:base] *",
   "language": "python",
   "name": "conda-base-py"
  },
  "language_info": {
   "codemirror_mode": {
    "name": "ipython",
    "version": 3
   },
   "file_extension": ".py",
   "mimetype": "text/x-python",
   "name": "python",
   "nbconvert_exporter": "python",
   "pygments_lexer": "ipython3",
   "version": "3.12.4"
  }
 },
 "nbformat": 4,
 "nbformat_minor": 2
}
